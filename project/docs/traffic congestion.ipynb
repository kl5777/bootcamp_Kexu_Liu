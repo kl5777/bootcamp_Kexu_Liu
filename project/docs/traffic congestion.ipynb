{
 "cells": [
  {
   "cell_type": "code",
   "execution_count": null,
   "id": "4a2ac980",
   "metadata": {},
   "outputs": [
    {
     "name": "stdout",
     "output_type": "stream",
     "text": [
      "Project root: /Users/liuphoebe/Desktop/bootcamp4/bootcamp_Kexu_Liu/project/docs\n",
      "Data paths ready.\n"
     ]
    }
   ],
   "source": [
    "# Setup\n",
    "from pathlib import Path\n",
    "import os\n",
    "\n",
    "PROJECT_ROOT = Path.cwd().resolve().parents[2] if \"homework\" in str(Path.cwd()) else Path.cwd().resolve()\n",
    "\n",
    "DATA_RAW       = PROJECT_ROOT / \"data\" / \"raw\"\n",
    "DATA_INTERIM   = PROJECT_ROOT / \"data\" / \"interim\"\n",
    "DATA_PROCESSED = PROJECT_ROOT / \"data\" / \"processed\"\n",
    "MODELS_DIR     = PROJECT_ROOT / \"models\"\n",
    "REPORTS_DIR    = PROJECT_ROOT / \"docs\" / \"reports\"\n",
    "SRC_DIR        = PROJECT_ROOT / \"src\"\n",
    "\n",
    "for p in [DATA_RAW, DATA_INTERIM, DATA_PROCESSED, MODELS_DIR, REPORTS_DIR, SRC_DIR]:\n",
    "    p.mkdir(parents=True, exist_ok=True)\n",
    "\n",
    "REQ = [\n",
    "    \"pandas>=2.0.0\",\n",
    "    \"polars>=0.20.0\",\n",
    "    \"pyarrow>=15.0.0\",\n",
    "    \"duckdb>=1.0.0\",\n",
    "    \"scikit-learn>=1.4.0\",\n",
    "    \"matplotlib>=3.8.0\",\n",
    "    \"mlflow>=2.16.0\"\n",
    "]\n",
    "print(\"Project root:\", PROJECT_ROOT)\n",
    "print(\"Data paths ready.\")"
   ]
  },
  {
   "cell_type": "code",
   "execution_count": null,
   "id": "384ad374",
   "metadata": {},
   "outputs": [],
   "source": [
    "# Ingestion\n",
    "import requests\n",
    "import pandas as pd\n",
    "from pathlib import Path\n",
    "\n",
    "RAW_PARQ = Path(\"data/raw/nycdot_speeds.parquet\")\n",
    "def fetch_nycdot_speeds():\n",
    "    url = \"https://data.cityofnewyork.us/resource/i4gi-tjb9.json?$limit=50000\"\n",
    "    save_path = \"data/raw/nycdot_speeds.json\"\n",
    "\n",
    "    response = requests.get(url)\n",
    "    if response.status_code == 200:\n",
    "        data = response.json()\n",
    "        all_rows = data\n",
    "\n",
    "        with open(save_path, \"w\") as f:\n",
    "            for row in all_rows:\n",
    "                f.write(pd.io.json.dumps(row) + \"\\n\")\n",
    "        print(f\"💾 Saved {len(all_rows)} rows to {save_path}\")\n",
    "\n",
    "        df = pd.read_json(save_path, lines=True)\n",
    "        df.to_parquet(RAW_PARQ, index=False)\n",
    "        print(f\"✅ Converted and saved to {RAW_PARQ}\")\n",
    "    else:\n",
    "        print(\"❌ Failed to fetch data from API\")\n",
    "if not RAW_PARQ.exists():\n",
    "    fetch_nycdot_speeds()\n",
    "else:\n",
    "    print(\"✅ Found parquet:\", RAW_PARQ)"
   ]
  },
  {
   "cell_type": "code",
   "execution_count": null,
   "id": "d851c158",
   "metadata": {},
   "outputs": [],
   "source": [
    "# data cleaning\n",
    "df = pd.read_parquet(RAW_PARQ)\n",
    "\n",
    "df = df.drop_duplicates()\n",
    "df = df.dropna(subset=['speed', 'segmentid'])\n",
    "\n",
    "df['speed'] = df['speed'].astype(float)\n",
    "df['segmentid'] = df['segmentid'].astype(str)\n",
    "\n",
    "print(f\"🧹 Cleaned data shape: {df.shape}\")\n",
    "df.head()"
   ]
  },
  {
   "cell_type": "code",
   "execution_count": null,
   "id": "88f6d18a",
   "metadata": {},
   "outputs": [],
   "source": [
    "# EDA (Exploratory Data Analysis)\n",
    "import matplotlib.pyplot as plt\n",
    "import seaborn as sns\n",
    "\n",
    "df.describe()\n",
    "\n",
    "plt.figure(figsize=(8,5))\n",
    "sns.histplot(df['speed'], bins=50, kde=True)\n",
    "plt.title(\"Distribution of Traffic Speed\")\n",
    "plt.xlabel(\"Speed (mph)\")\n",
    "plt.ylabel(\"Frequency\")\n",
    "plt.show()"
   ]
  },
  {
   "cell_type": "code",
   "execution_count": null,
   "id": "6015de79",
   "metadata": {},
   "outputs": [],
   "source": [
    "# Feature Engineering\n",
    "if 'datetime' in df.columns:\n",
    "    df['datetime'] = pd.to_datetime(df['datetime'])\n",
    "    df['hour'] = df['datetime'].dt.hour\n",
    "    df['weekday'] = df['datetime'].dt.weekday\n",
    "\n",
    "print(\"🧪 Feature columns:\", ['hour', 'weekday'])"
   ]
  },
  {
   "cell_type": "code",
   "execution_count": null,
   "id": "ef34e6cd",
   "metadata": {},
   "outputs": [],
   "source": [
    "# Save Processed Data\n",
    "df.to_parquet(PROCESSED_PARQ, index=False)\n",
    "print(f\"✅ Saved processed data to {PROCESSED_PARQ}\")"
   ]
  },
  {
   "cell_type": "code",
   "execution_count": null,
   "id": "0bafa6c4",
   "metadata": {},
   "outputs": [],
   "source": [
    "# Simple Modeling\n",
    "hourly_speed = df.groupby('hour')['speed'].mean()\n",
    "\n",
    "plt.figure(figsize=(8,5))\n",
    "sns.lineplot(x=hourly_speed.index, y=hourly_speed.values)\n",
    "plt.title(\"Average Speed by Hour of Day\")\n",
    "plt.xlabel(\"Hour\")\n",
    "plt.ylabel(\"Average Speed (mph)\")\n",
    "plt.show()"
   ]
  },
  {
   "cell_type": "markdown",
   "id": "c9171a56",
   "metadata": {},
   "source": [
    "# Reflection\n",
    "### 💡 Hypothesis\n",
    "Traffic speed is significantly lower during rush hours (8–10am, 5–7pm).\n",
    "\n",
    "### 🧠 Reflection\n",
    "- ✅ The API provided sufficient granularity to capture temporal patterns.\n",
    "- ⚠️ Some segments had missing or zero speeds; these require domain knowledge to filter.\n",
    "- ✅ Parquet format helped optimize storage and downstream processing speed."
   ]
  }
 ],
 "metadata": {
  "kernelspec": {
   "display_name": ".venv",
   "language": "python",
   "name": "python3"
  },
  "language_info": {
   "codemirror_mode": {
    "name": "ipython",
    "version": 3
   },
   "file_extension": ".py",
   "mimetype": "text/x-python",
   "name": "python",
   "nbconvert_exporter": "python",
   "pygments_lexer": "ipython3",
   "version": "3.12.4"
  }
 },
 "nbformat": 4,
 "nbformat_minor": 5
}
