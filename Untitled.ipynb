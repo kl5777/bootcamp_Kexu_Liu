{
 "cells": [
  {
   "cell_type": "code",
   "execution_count": null,
   "id": "1b8964de-ec79-4b14-b40d-8a5c64f97b97",
   "metadata": {},
   "outputs": [],
   "source": [
    "# Environment & Config Check\n",
    "from dotenv import load_dotenv\n",
    "import os\n",
    "import numpy as np\n",
    "\n",
    "load_dotenv()\n",
    "print(\"API_KEY present:\", os.getenv(\"API_KEY\") is not None)\n",
    "\n",
    "arr = np.array([1, 2, 3])\n",
    "print(\"Array:\", arr, \"Sum:\", arr.sum())\n"
   ]
  }
 ],
 "metadata": {
  "kernelspec": {
   "display_name": "Python 3 (ipykernel)",
   "language": "python",
   "name": "python3"
  },
  "language_info": {
   "codemirror_mode": {
    "name": "ipython",
    "version": 3
   },
   "file_extension": ".py",
   "mimetype": "text/x-python",
   "name": "python",
   "nbconvert_exporter": "python",
   "pygments_lexer": "ipython3",
   "version": "3.12.4"
  }
 },
 "nbformat": 4,
 "nbformat_minor": 5
}
