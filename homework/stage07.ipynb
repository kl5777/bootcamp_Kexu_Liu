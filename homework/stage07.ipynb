{
 "cells": [
  {
   "cell_type": "code",
   "execution_count": 1,
   "id": "76e43e21",
   "metadata": {},
   "outputs": [
    {
     "data": {
      "text/html": [
       "<div>\n",
       "<style scoped>\n",
       "    .dataframe tbody tr th:only-of-type {\n",
       "        vertical-align: middle;\n",
       "    }\n",
       "\n",
       "    .dataframe tbody tr th {\n",
       "        vertical-align: top;\n",
       "    }\n",
       "\n",
       "    .dataframe thead th {\n",
       "        text-align: right;\n",
       "    }\n",
       "</style>\n",
       "<table border=\"1\" class=\"dataframe\">\n",
       "  <thead>\n",
       "    <tr style=\"text-align: right;\">\n",
       "      <th></th>\n",
       "      <th>x</th>\n",
       "      <th>y</th>\n",
       "    </tr>\n",
       "  </thead>\n",
       "  <tbody>\n",
       "    <tr>\n",
       "      <th>0</th>\n",
       "      <td>54.967142</td>\n",
       "      <td>22.923146</td>\n",
       "    </tr>\n",
       "    <tr>\n",
       "      <th>1</th>\n",
       "      <td>48.617357</td>\n",
       "      <td>27.896773</td>\n",
       "    </tr>\n",
       "    <tr>\n",
       "      <th>2</th>\n",
       "      <td>56.476885</td>\n",
       "      <td>28.286427</td>\n",
       "    </tr>\n",
       "    <tr>\n",
       "      <th>3</th>\n",
       "      <td>65.230299</td>\n",
       "      <td>25.988614</td>\n",
       "    </tr>\n",
       "    <tr>\n",
       "      <th>4</th>\n",
       "      <td>47.658466</td>\n",
       "      <td>29.193571</td>\n",
       "    </tr>\n",
       "  </tbody>\n",
       "</table>\n",
       "</div>"
      ],
      "text/plain": [
       "           x          y\n",
       "0  54.967142  22.923146\n",
       "1  48.617357  27.896773\n",
       "2  56.476885  28.286427\n",
       "3  65.230299  25.988614\n",
       "4  47.658466  29.193571"
      ]
     },
     "execution_count": 1,
     "metadata": {},
     "output_type": "execute_result"
    }
   ],
   "source": [
    "import pandas as pd\n",
    "\n",
    "try:\n",
    "    df = pd.read_csv(\"data/raw/outliers_homework.csv\")\n",
    "except FileNotFoundError:\n",
    "    import numpy as np\n",
    "    np.random.seed(42)\n",
    "    df = pd.DataFrame({\n",
    "        \"x\": np.random.normal(50, 10, 100),\n",
    "        \"y\": np.random.normal(30, 5, 100)\n",
    "    })\n",
    "\n",
    "df.head()"
   ]
  },
  {
   "cell_type": "code",
   "execution_count": 2,
   "id": "fee79c18",
   "metadata": {},
   "outputs": [],
   "source": [
    "def detect_outliers_iqr(series):\n",
    "    \"\"\"\n",
    "    Detect outliers using the IQR method.\n",
    "    \n",
    "    Parameters:\n",
    "        series (pd.Series): A numeric column.\n",
    "    Returns:\n",
    "        pd.Series: Boolean mask where True = outlier.\n",
    "    \"\"\"\n",
    "    Q1 = series.quantile(0.25)\n",
    "    Q3 = series.quantile(0.75)\n",
    "    IQR = Q3 - Q1\n",
    "    lower = Q1 - 1.5 * IQR\n",
    "    upper = Q3 + 1.5 * IQR\n",
    "    return (series < lower) | (series > upper)"
   ]
  },
  {
   "cell_type": "code",
   "execution_count": null,
   "id": "20cb67a5",
   "metadata": {},
   "outputs": [],
   "source": [
    "def detect_outliers_zscore(series, threshold=3.0):\n",
    "    \"\"\"\n",
    "    Detect outliers using the Z-score method.\n",
    "    \n",
    "    Parameters:\n",
    "        series (pd.Series): A numeric column.\n",
    "        threshold (float): Z-score cutoff, default = 3.0\n",
    "    Returns:\n",
    "        pd.Series: Boolean mask where True = outlier.\n",
    "    \"\"\"\n",
    "    mean = series.mean()\n",
    "    std = series.std()\n",
    "    z_scores = (series - mean) / std\n",
    "    return z_scores.abs() > threshold"
   ]
  },
  {
   "cell_type": "code",
   "execution_count": 5,
   "id": "190523ca",
   "metadata": {},
   "outputs": [],
   "source": [
    "def winsorize_series(series, lower=0.05, upper=0.95):\n",
    "    \"\"\"\n",
    "    Winsorize a series by capping values at given quantiles.\n",
    "    \"\"\"\n",
    "    lower_bound = series.quantile(lower)\n",
    "    upper_bound = series.quantile(upper)\n",
    "    return series.clip(lower=lower_bound, upper=upper_bound)\n",
    "\n",
    "def detect_outliers_zscore(series, threshold=3.0):\n",
    "    \"\"\"\n",
    "    Detect outliers using the Z-score method.\n",
    "    \n",
    "    Parameters:\n",
    "        series (pd.Series): A numeric column.\n",
    "        threshold (float): Z-score cutoff, default = 3.0\n",
    "    Returns:\n",
    "        pd.Series: Boolean mask where True = outlier.\n",
    "    \"\"\"\n",
    "    mean = series.mean()\n",
    "    std = series.std()\n",
    "    z_scores = (series - mean) / std\n",
    "    return z_scores.abs() > threshold"
   ]
  },
  {
   "cell_type": "code",
   "execution_count": 6,
   "id": "d84a2e1c",
   "metadata": {},
   "outputs": [
    {
     "name": "stdout",
     "output_type": "stream",
     "text": [
      "Number of outliers detected by IQR: 1\n",
      "Number of outliers detected by Z-score: 0\n"
     ]
    }
   ],
   "source": [
    "df[\"outlier_iqr\"] = detect_outliers_iqr(df[\"x\"])\n",
    "df[\"outlier_zscore\"] = detect_outliers_zscore(df[\"x\"])\n",
    "\n",
    "print(\"Number of outliers detected by IQR:\", df[\"outlier_iqr\"].sum())\n",
    "print(\"Number of outliers detected by Z-score:\", df[\"outlier_zscore\"].sum())"
   ]
  },
  {
   "cell_type": "code",
   "execution_count": 7,
   "id": "74f2c12b",
   "metadata": {},
   "outputs": [],
   "source": [
    "import pandas as pd\n",
    "import numpy as np\n",
    "\n",
    "def detect_outliers_iqr(series):\n",
    "    \"\"\"\n",
    "    Detect outliers using the Interquartile Range (IQR) method.\n",
    "    \"\"\"\n",
    "    q1 = series.quantile(0.25)\n",
    "    q3 = series.quantile(0.75)\n",
    "    iqr = q3 - q1\n",
    "    lower_bound = q1 - 1.5 * iqr\n",
    "    upper_bound = q3 + 1.5 * iqr\n",
    "    return (series < lower_bound) | (series > upper_bound)\n",
    "\n",
    "def detect_outliers_zscore(series, threshold=3.0):\n",
    "    \"\"\"\n",
    "    Detect outliers using the Z-score method.\n",
    "    \"\"\"\n",
    "    mean = series.mean()\n",
    "    std = series.std()\n",
    "    z_scores = (series - mean) / std\n",
    "    return z_scores.abs() > threshold\n",
    "\n",
    "def winsorize_series(series, lower=0.05, upper=0.95):\n",
    "    \"\"\"\n",
    "    Winsorize a series by capping values at given quantiles.\n",
    "    \"\"\"\n",
    "    lower_bound = series.quantile(lower)\n",
    "    upper_bound = series.quantile(upper)\n",
    "    return series.clip(lower=lower_bound, upper=upper_bound)"
   ]
  },
  {
   "cell_type": "code",
   "execution_count": 8,
   "id": "d6c95bc5",
   "metadata": {},
   "outputs": [],
   "source": [
    "# Example data\n",
    "np.random.seed(0)\n",
    "data = pd.DataFrame({\n",
    "    \"x\": np.concatenate([np.random.normal(50, 5, 100), [10, 100]])\n",
    "})\n",
    "\n",
    "# Detect outliers\n",
    "data[\"outlier_iqr\"] = detect_outliers_iqr(data[\"x\"])\n",
    "data[\"outlier_zscore\"] = detect_outliers_zscore(data[\"x\"])\n",
    "\n",
    "# Winsorize the series\n",
    "data[\"x_winsorized\"] = winsorize_series(data[\"x\"])"
   ]
  },
  {
   "cell_type": "code",
   "execution_count": 9,
   "id": "d4c84514",
   "metadata": {},
   "outputs": [
    {
     "name": "stdout",
     "output_type": "stream",
     "text": [
      "Number of outliers detected by IQR: 2\n",
      "Number of outliers detected by Z-score: 2\n",
      "Original max value: 100.0\n",
      "Winsorized max value: 59.3173680766888\n"
     ]
    }
   ],
   "source": [
    "print(\"Number of outliers detected by IQR:\", data[\"outlier_iqr\"].sum())\n",
    "print(\"Number of outliers detected by Z-score:\", data[\"outlier_zscore\"].sum())\n",
    "print(\"Original max value:\", data[\"x\"].max())\n",
    "print(\"Winsorized max value:\", data[\"x_winsorized\"].max())"
   ]
  },
  {
   "cell_type": "code",
   "execution_count": 10,
   "id": "2e44d0c9",
   "metadata": {},
   "outputs": [
    {
     "name": "stdout",
     "output_type": "stream",
     "text": [
      "          Method                Outliers Detected\n",
      "0            IQR                                2\n",
      "1        Z-score                                2\n",
      "2  Winsorization  N/A (capped instead of flagged)\n"
     ]
    }
   ],
   "source": [
    "# Summary table\n",
    "summary = pd.DataFrame({\n",
    "    \"Method\": [\"IQR\", \"Z-score\", \"Winsorization\"],\n",
    "    \"Outliers Detected\": [data[\"outlier_iqr\"].sum(),\n",
    "                          data[\"outlier_zscore\"].sum(),\n",
    "                          \"N/A (capped instead of flagged)\"]\n",
    "})\n",
    "print(summary)"
   ]
  }
 ],
 "metadata": {
  "kernelspec": {
   "display_name": ".venv",
   "language": "python",
   "name": "python3"
  },
  "language_info": {
   "codemirror_mode": {
    "name": "ipython",
    "version": 3
   },
   "file_extension": ".py",
   "mimetype": "text/x-python",
   "name": "python",
   "nbconvert_exporter": "python",
   "pygments_lexer": "ipython3",
   "version": "3.12.4"
  }
 },
 "nbformat": 4,
 "nbformat_minor": 5
}
