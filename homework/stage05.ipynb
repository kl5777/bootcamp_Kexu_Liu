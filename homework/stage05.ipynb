{
 "cells": [
  {
   "cell_type": "code",
   "execution_count": 5,
   "id": "64da2138",
   "metadata": {},
   "outputs": [
    {
     "name": "stderr",
     "output_type": "stream",
     "text": [
      "[*********************100%***********************]  1 of 1 completed\n"
     ]
    },
    {
     "name": "stdout",
     "output_type": "stream",
     "text": [
      "✅ Downloaded TSLA data:\n",
      "        date   adj_close\n",
      "0 2025-05-20  343.820007\n",
      "1 2025-05-21  334.619995\n",
      "2 2025-05-22  341.040009\n",
      "3 2025-05-23  339.339996\n",
      "4 2025-05-27  362.890015\n",
      "✅ Saved data/raw/TSLA_20250820-1041.csv and data/processed/TSLA_20250820-1041.parquet\n"
     ]
    }
   ],
   "source": [
    "import os\n",
    "from dotenv import load_dotenv\n",
    "from pathlib import Path\n",
    "from datetime import datetime\n",
    "import pandas as pd\n",
    "import yfinance as yf\n",
    "\n",
    "def load_stock_data(symbol=\"TSLA\", period=\"3mo\", interval=\"1d\"):\n",
    "    \"\"\"\n",
    "    Download stock data and return a clean DataFrame with columns: date, adj_close\n",
    "    \"\"\"\n",
    "    df = yf.download(symbol, period=period, interval=interval, auto_adjust=False).reset_index()\n",
    "\n",
    "    # If columns are multi-index, flatten them\n",
    "    if isinstance(df.columns, pd.MultiIndex):\n",
    "        df.columns = [c[0] if isinstance(c, tuple) else c for c in df.columns]\n",
    "\n",
    "    # Ensure we always have 'date' and 'adj_close'\n",
    "    if \"Adj Close\" in df.columns:\n",
    "        df = df[[\"Date\", \"Adj Close\"]].rename(columns={\"Date\": \"date\", \"Adj Close\": \"adj_close\"})\n",
    "    elif \"Close\" in df.columns:\n",
    "        df = df[[\"Date\", \"Close\"]].rename(columns={\"Date\": \"date\", \"Close\": \"adj_close\"})\n",
    "    else:\n",
    "        raise ValueError(\"No 'Close' or 'Adj Close' column found in downloaded data!\")\n",
    "\n",
    "    # Fix data types\n",
    "    df[\"date\"] = pd.to_datetime(df[\"date\"], errors=\"coerce\")\n",
    "    df[\"adj_close\"] = pd.to_numeric(df[\"adj_close\"], errors=\"coerce\").astype(float)\n",
    "\n",
    "    return df\n",
    "\n",
    "load_dotenv()\n",
    "\n",
    "RAW = Path(os.getenv(\"DATA_DIR_RAW\"))\n",
    "PROCESSED = Path(os.getenv(\"DATA_DIR_PROCESSED\"))\n",
    "\n",
    "RAW.mkdir(parents=True, exist_ok=True)\n",
    "PROCESSED.mkdir(parents=True, exist_ok=True)\n",
    "\n",
    "SYMBOL = \"TSLA\"\n",
    "df_api = load_stock_data(SYMBOL)\n",
    "\n",
    "df_api[\"date\"] = pd.to_datetime(df_api[\"date\"], errors=\"coerce\")\n",
    "df_api[\"adj_close\"] = pd.to_numeric(df_api[\"adj_close\"], errors=\"coerce\").astype(float)\n",
    "\n",
    "print(\"✅ Downloaded TSLA data:\")\n",
    "print(df_api.head())\n",
    "\n",
    "ts = datetime.now().strftime(\"%Y%m%d-%H%M\")\n",
    "csv_path = RAW / f\"{SYMBOL}_{ts}.csv\"\n",
    "parquet_path = PROCESSED / f\"{SYMBOL}_{ts}.parquet\"\n",
    "\n",
    "df_api.to_csv(csv_path, index=False)\n",
    "df_api.to_parquet(parquet_path, index=False, engine=\"fastparquet\")\n",
    "\n",
    "print(f\"✅ Saved {csv_path} and {parquet_path}\")"
   ]
  },
  {
   "cell_type": "code",
   "execution_count": null,
   "id": "c1ecc769",
   "metadata": {},
   "outputs": [
    {
     "name": "stdout",
     "output_type": "stream",
     "text": [
      "✅ Validation passed\n",
      "✅ Validation passed\n"
     ]
    }
   ],
   "source": [
    "df_csv = pd.read_csv(csv_path, parse_dates=[\"date\"])\n",
    "df_parquet = pd.read_parquet(parquet_path)\n",
    "\n",
    "def validate(df):\n",
    "    if not pd.api.types.is_datetime64_any_dtype(df[\"date\"]):\n",
    "        df[\"date\"] = pd.to_datetime(df[\"date\"], errors=\"coerce\")\n",
    "    if not pd.api.types.is_float_dtype(df[\"adj_close\"]):\n",
    "        df[\"adj_close\"] = pd.to_numeric(df[\"adj_close\"], errors=\"coerce\").astype(float)\n",
    "    assert df[\"date\"].notna().all()\n",
    "    assert df[\"adj_close\"].notna().all()\n",
    "    print(\"✅ Validation passed\")\n",
    "\n",
    "validate(df_csv)\n",
    "validate(df_parquet)"
   ]
  },
  {
   "cell_type": "code",
   "execution_count": null,
   "id": "5aa985d9",
   "metadata": {},
   "outputs": [],
   "source": [
    "def write_df(df, path):\n",
    "    path = Path(path)\n",
    "    path.parent.mkdir(parents=True, exist_ok=True)\n",
    "\n",
    "    if path.suffix == \".csv\":\n",
    "        df.to_csv(path, index=False)\n",
    "    elif path.suffix == \".parquet\":\n",
    "        try:\n",
    "            df.to_parquet(path, index=False, engine=\"fastparquet\")\n",
    "        except ImportError:\n",
    "            raise ImportError(\"⚠️ Parquet support requires `pyarrow` or `fastparquet`. Please install one.\")\n",
    "    else:\n",
    "        raise ValueError(\"Unsupported file format\")\n",
    "    print(f\"✅ Saved {path}\")\n",
    "\n",
    "def read_df(path):\n",
    "    path = Path(path)\n",
    "    if not path.exists():\n",
    "        raise FileNotFoundError(f\"❌ File not found: {path}\")\n",
    "\n",
    "    if path.suffix == \".csv\":\n",
    "        return pd.read_csv(path, parse_dates=[\"date\"])\n",
    "    elif path.suffix == \".parquet\":\n",
    "        return pd.read_parquet(path)\n",
    "    else:\n",
    "        raise ValueError(\"Unsupported file format\")"
   ]
  },
  {
   "cell_type": "code",
   "execution_count": null,
   "id": "06e45ce4",
   "metadata": {},
   "outputs": [
    {
     "name": "stdout",
     "output_type": "stream",
     "text": [
      "✅ Saved data/raw/TSLA_20250819-0957_test.csv\n",
      "✅ Saved data/processed/TSLA_20250819-0957_test.parquet\n",
      "✅ Validation passed\n",
      "✅ Validation passed\n"
     ]
    }
   ],
   "source": [
    "test_csv = RAW / f\"{SYMBOL}_{ts}_test.csv\"\n",
    "test_parquet = PROCESSED / f\"{SYMBOL}_{ts}_test.parquet\"\n",
    "\n",
    "write_df(df_api, test_csv)\n",
    "write_df(df_api, test_parquet)\n",
    "\n",
    "df1 = read_df(test_csv)\n",
    "df2 = read_df(test_parquet)\n",
    "\n",
    "validate(df1)\n",
    "validate(df2)"
   ]
  }
 ],
 "metadata": {
  "kernelspec": {
   "display_name": ".venv",
   "language": "python",
   "name": "python3"
  },
  "language_info": {
   "codemirror_mode": {
    "name": "ipython",
    "version": 3
   },
   "file_extension": ".py",
   "mimetype": "text/x-python",
   "name": "python",
   "nbconvert_exporter": "python",
   "pygments_lexer": "ipython3",
   "version": "3.12.4"
  }
 },
 "nbformat": 4,
 "nbformat_minor": 5
}
