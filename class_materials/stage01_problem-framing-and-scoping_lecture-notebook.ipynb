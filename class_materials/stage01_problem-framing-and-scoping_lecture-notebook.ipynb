{
    "cells": [
      {
        "cell_type": "markdown",
        "metadata": {},
        "source": [
          "# Stage 01 — Problem Framing & Scoping (Lecture Notebook)\n",
          "**Date:** Aug 14 (Thursday) (A)\n",
          "\n",
          "### Objectives\n",
          "- Define a real-world financial/business problem.\n",
          "- Identify the end-user and their needs.\n",
          "- Determine if the goal is descriptive, predictive, or causal.\n",
          "- Clarify assumptions and constraints.\n",
          "- Begin designing the modeling workflow and repo structure."
        ]
      },
      {
        "cell_type": "markdown",
        "metadata": {},
        "source": [
          "## Lifecycle Context\n",
          "This stage anchors the entire project: we connect stakeholder needs to technical deliverables and set up a minimal, usable repository."
        ]
      },
      {
        "cell_type": "markdown",
        "metadata": {},
        "source": [
          "## Mini Case — ETF Strategy\n",
          "> PM asks: *“Will this ETF strategy still work next year?”*\n",
          "\n",
          "**Discuss:**\n",
          "- **Assumptions:** stationarity, liquidity, transaction costs, capacity.\n",
          "- **Missing Info:** benchmark, horizon, evaluation metric, constraints.\n",
          "- **Useful Answer:** forecast & risk bands; scenario notes; clear decision trigger."
        ]
      },
      {
        "cell_type": "code",
        "execution_count": null,
        "metadata": {},
        "outputs": [],
        "source": [
          "# Repo Skeleton Demo — run locally to scaffold your project\n",
          "import os, textwrap, pathlib\n",
          "\n",
          "REPO_NAME = \"afe_project\"  # change as desired\n",
          "FOLDERS = [\"data\", \"src\", \"notebooks\", \"docs\"]\n",
          "\n",
          "base = pathlib.Path.cwd() / REPO_NAME\n",
          "base.mkdir(exist_ok=True)\n",
          "for f in FOLDERS:\n",
          "    (base / f).mkdir(parents=True, exist_ok=True)\n",
          "\n",
          "README_TEMPLATE = textwrap.dedent(\"\"\"\n",
          "# Project Title\n",
          "**Stage:** Problem Framing & Scoping (Stage 01)\n",
          "\n",
          "## Problem Statement\n",
          "<1–2 paragraphs: what problem & why it matters>\n",
          "\n",
          "## Stakeholder & User\n",
          "<Who decides? Who uses the output? Timing & workflow context>\n",
          "\n",
          "## Useful Answer & Decision\n",
          "<Descriptive / Predictive / Causal; metric; artifact to deliver>\n",
          "\n",
          "## Assumptions & Constraints\n",
          "<Bullets: data availability, capacity, latency, compliance, etc.>\n",
          "\n",
          "## Known Unknowns / Risks\n",
          "<Bullets: what’s uncertain; how you’ll test or monitor>\n",
          "\n",
          "## Lifecycle Mapping\n",
          "Goal → Stage → Deliverable\n",
          "- <Goal A> → Problem Framing & Scoping (Stage 01) → <Deliverable X>\n",
          "\n",
          "## Repo Plan\n",
          "/data/, /src/, /notebooks/, /docs/ ; cadence for updates\n",
          "\"\"\")\n",
          "\n",
          "readme_path = base / \"README.md\"\n",
          "if not readme_path.exists():\n",
          "    readme_path.write_text(README_TEMPLATE, encoding=\"utf-8\")\n",
          "readme_path.resolve()"
        ]
      },
      {
        "cell_type": "markdown",
        "metadata": {},
        "source": [
          "## Framing Worksheet (fill here then move to README)\n",
          "### Problem Statement\n",
          "- ...\n",
          "\n",
          "### Stakeholder & User\n",
          "- Decision owner: ...\n",
          "- Tool/operator: ...\n",
          "\n",
          "### Useful Answer\n",
          "- Descriptive / Predictive / Causal: ...\n",
          "- Metric or artifact: ...\n",
          "\n",
          "### Assumptions & Constraints\n",
          "- ...\n",
          "\n",
          "### Known Unknowns / Risks\n",
          "- ...\n",
          "\n",
          "### Lifecycle Mapping\n",
          "- Goal → Stage → Deliverable mapping bullets"
        ]
      },
      {
        "cell_type": "markdown",
        "metadata": {},
        "source": [
          "## Commit Message Examples\n",
          "- `Initial commit — project framing`\n",
          "- `Added README with problem description`\n",
          "- `docs/: added stakeholder memo or persona`"
        ]
      },
      {
        "cell_type": "markdown",
        "metadata": {},
        "source": [
          "## Next Steps\n",
          "Complete the homework: finalize scoping paragraph, push repo link, and create your stakeholder artifact. These directly feed **Today’s Project Contribution**."
        ]
      }
    ],
    "metadata": {
      "kernelspec": {
        "display_name": "Python 3",
        "language": "python",
        "name": "python3"
      },
      "language_info": {
        "name": "python",
        "version": ""
      }
    },
    "nbformat": 4,
    "nbformat_minor": 5
  }  