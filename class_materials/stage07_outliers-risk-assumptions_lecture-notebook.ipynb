{
  "cells": [
    {
      "cell_type": "markdown",
      "metadata": {},
      "source": [
        "# Stage 7: Outliers + Risk Assumptions\n",
        "Preprocessing Part II — Applied Financial Engineering Lifecycle (Aug 19, Tue)\n",
        "\n",
        "**Objectives**\n",
        "- Detect outliers (IQR, Z-score)\n",
        "- Handle outliers (remove, winsorize)\n",
        "- Run a simple sensitivity analysis and document assumptions"
      ]
    },
    {
      "cell_type": "code",
      "execution_count": null,
      "metadata": {},
      "outputs": [],
      "source": [
        "# 1) Setup\n",
        "import numpy as np\n",
        "import pandas as pd\n",
        "import matplotlib.pyplot as plt\n",
        "from sklearn.linear_model import LinearRegression\n",
        "from sklearn.metrics import mean_absolute_error, r2_score\n",
        "\n",
        "np.random.seed(7)\n",
        "x = np.linspace(0, 10, 60)\n",
        "y = 1.8 * x + 0.5 + np.random.normal(0, 1.8, size=x.size)\n",
        "# Inject a few extreme points\n",
        "y[8] += 20\n",
        "y[25] -= 18\n",
        "y[47] += 15\n",
        "df = pd.DataFrame({'x': x, 'y': y})\n",
        "df.head()"
      ]
    },
    {
      "cell_type": "markdown",
      "metadata": {},
      "source": [
        "## 2) Quick Visual Check"
      ]
    },
    {
      "cell_type": "code",
      "execution_count": null,
      "metadata": {},
      "outputs": [],
      "source": [
        "plt.figure()\n",
        "plt.scatter(df['x'], df['y'])\n",
        "plt.title('Scatter with Potential Outliers')\n",
        "plt.xlabel('x')\n",
        "plt.ylabel('y')\n",
        "plt.show()"
      ]
    },
    {
      "cell_type": "markdown",
      "metadata": {},
      "source": [
        "## 3) Detecting Outliers — IQR\n",
        "**Idea:** Flag points outside Q1 − 1.5·IQR and Q3 + 1.5·IQR."
      ]
    },
    {
      "cell_type": "code",
      "execution_count": null,
      "metadata": {},
      "outputs": [],
      "source": [
        "def detect_outliers_iqr(series: pd.Series, k: float = 1.5) -> pd.Series:\n",
        "    \"\"\"Return boolean mask where True indicates an outlier by IQR rule.\n",
        "    Parameters\n",
        "    ----------\n",
        "    series : pd.Series\n",
        "        Numeric series to evaluate.\n",
        "    k : float\n",
        "        Multiplier for IQR to set fences (default 1.5).\n",
        "    \"\"\"\n",
        "    q1 = series.quantile(0.25)\n",
        "    q3 = series.quantile(0.75)\n",
        "    iqr = q3 - q1\n",
        "    lower = q1 - k * iqr\n",
        "    upper = q3 + k * iqr\n",
        "    return (series < lower) | (series > upper)\n",
        "\n",
        "df['outlier_iqr'] = detect_outliers_iqr(df['y'])\n",
        "df['outlier_iqr'].value_counts()"
      ]
    },
    {
      "cell_type": "code",
      "execution_count": null,
      "metadata": {},
      "outputs": [],
      "source": [
        "plt.figure()\n",
        "plt.boxplot(df['y'], vert=True)\n",
        "plt.title('Boxplot of y (with potential outliers)')\n",
        "plt.ylabel('y')\n",
        "plt.show()"
      ]
    },
    {
      "cell_type": "markdown",
      "metadata": {},
      "source": [
        "## 4) Detecting Outliers — Z-score\n",
        "**Idea:** Flag points where |z| > threshold (commonly 3).\n",
        "Note: Z-score assumes approximate normality; heavy tails may cause over-flagging."
      ]
    },
    {
      "cell_type": "code",
      "execution_count": null,
      "metadata": {},
      "outputs": [],
      "source": [
        "def detect_outliers_zscore(series: pd.Series, threshold: float = 3.0) -> pd.Series:\n",
        "    \"\"\"Return boolean mask where True indicates |z| > threshold.\"\"\"\n",
        "    mu = series.mean()\n",
        "    sigma = series.std(ddof=0)\n",
        "    z = (series - mu) / (sigma if sigma != 0 else 1.0)\n",
        "    return z.abs() > threshold\n",
        "\n",
        "df['outlier_z'] = detect_outliers_zscore(df['y'], threshold=3.0)\n",
        "pd.crosstab(df['outlier_iqr'], df['outlier_z'])"
      ]
    },
    {
      "cell_type": "markdown",
      "metadata": {},
      "source": [
        "## 5) Handling Options\n",
        "We will compare three treatments: **All data**, **Filtered (remove IQR outliers)**, and **Winsorized** (optional)."
      ]
    },
    {
      "cell_type": "code",
      "execution_count": null,
      "metadata": {},
      "outputs": [],
      "source": [
        "def winsorize_series(series: pd.Series, lower: float = 0.05, upper: float = 0.95) -> pd.Series:\n",
        "    \"\"\"Return a winsorized copy of the series, clipping to given quantiles.\"\"\"\n",
        "    lo = series.quantile(lower)\n",
        "    hi = series.quantile(upper)\n",
        "    return series.clip(lower=lo, upper=hi)\n",
        "\n",
        "df_filtered = df.loc[~df['outlier_iqr'], ['x', 'y']].reset_index(drop=True)\n",
        "df_w = df.copy()\n",
        "df_w['y_w'] = winsorize_series(df_w['y'], lower=0.05, upper=0.95)"
      ]
    },
    {
      "cell_type": "code",
      "execution_count": null,
      "metadata": {},
      "outputs": [],
      "source": [
        "plt.figure()\n",
        "plt.hist(df['y'], bins=20, alpha=0.7)\n",
        "plt.title('Histogram of y (original)')\n",
        "plt.xlabel('y')\n",
        "plt.ylabel('count')\n",
        "plt.show()\n",
        "\n",
        "plt.figure()\n",
        "plt.hist(df_w['y_w'], bins=20, alpha=0.7)\n",
        "plt.title('Histogram of y (winsorized)')\n",
        "plt.xlabel('y_w')\n",
        "plt.ylabel('count')\n",
        "plt.show()"
      ]
    },
    {
      "cell_type": "markdown",
      "metadata": {},
      "source": [
        "## 6) Sensitivity Analysis — Linear Regression\n",
        "We compare slope, intercept, R², and MAE across treatments."
      ]
    },
    {
      "cell_type": "code",
      "execution_count": null,
      "metadata": {},
      "outputs": [],
      "source": [
        "def fit_and_metrics(X: np.ndarray, y: np.ndarray) -> dict:\n",
        "    model = LinearRegression()\n",
        "    model.fit(X, y)\n",
        "    y_hat = model.predict(X)\n",
        "    return {\n",
        "        'slope': float(model.coef_[0]),\n",
        "        'intercept': float(model.intercept_),\n",
        "        'r2': float(r2_score(y, y_hat)),\n",
        "        'mae': float(mean_absolute_error(y, y_hat))\n",
        "    }\n",
        "\n",
        "# All data\n",
        "m_all = fit_and_metrics(df[['x']].to_numpy(), df['y'].to_numpy())\n",
        "# Filtered (no IQR outliers)\n",
        "m_flt = fit_and_metrics(df_filtered[['x']].to_numpy(), df_filtered['y'].to_numpy())\n",
        "# Winsorized\n",
        "m_win = fit_and_metrics(df[['x']].to_numpy(), df_w['y_w'].to_numpy())\n",
        "\n",
        "sens_table = pd.DataFrame([m_all, m_flt, m_win], index=['all', 'filtered_iqr', 'winsorized'])\n",
        "sens_table"
      ]
    },
    {
      "cell_type": "code",
      "execution_count": null,
      "metadata": {},
      "outputs": [],
      "source": [
        "plt.figure()\n",
        "plt.scatter(df['x'], df['y'], label='all')\n",
        "x_line = np.linspace(df['x'].min(), df['x'].max(), 100).reshape(-1,1)\n",
        "def line(slope, intercept):\n",
        "    return slope * x_line[:,0] + intercept\n",
        "plt.plot(x_line, line(m_all['slope'], m_all['intercept']), label='fit: all')\n",
        "plt.plot(x_line, line(m_flt['slope'], m_flt['intercept']), label='fit: filtered')\n",
        "plt.plot(x_line, line(m_win['slope'], m_win['intercept']), label='fit: winsorized')\n",
        "plt.legend()\n",
        "plt.title('Regression Fits Across Treatments')\n",
        "plt.xlabel('x')\n",
        "plt.ylabel('y')\n",
        "plt.show()"
      ]
    },
    {
      "cell_type": "markdown",
      "metadata": {},
      "source": [
        "### Save Sensitivity Table (Reproducibility)"
      ]
    },
    {
      "cell_type": "code",
      "execution_count": null,
      "metadata": {},
      "outputs": [],
      "source": [
        "sens_table.to_csv('sens_stage07_demo.csv', index=True)\n",
        "sens_table"
      ]
    },
    {
      "cell_type": "markdown",
      "metadata": {},
      "source": [
        "## 7) Document Assumptions & Risks\n",
        "- IQR multiplier k=1.5; Z threshold=3.0; winsor quantiles 5%/95%.\n",
        "- Data may be heavy-tailed; Z-score may over-flag.\n",
        "- Removing outliers may discard rare but meaningful events (e.g., crash days).\n",
        "- Always report thresholds and provide results **with and without** outliers."
      ]
    },
    {
      "cell_type": "markdown",
      "metadata": {},
      "source": [
        "## 8) Wrap-Up\n",
        "**Takeaways**\n",
        "- Outlier definitions and treatments are **assumption-dependent**.\n",
        "- Test sensitivity; compare multiple treatments.\n",
        "- Document decisions for reproducibility."
      ]
    }
  ],
  "metadata": {
    "kernelspec": {
      "display_name": "Python 3",
      "language": "python",
      "name": "python3"
    },
    "language_info": {
      "name": "python",
      "version": "3.11"
    }
  },
  "nbformat": 4,
  "nbformat_minor": 5
}
